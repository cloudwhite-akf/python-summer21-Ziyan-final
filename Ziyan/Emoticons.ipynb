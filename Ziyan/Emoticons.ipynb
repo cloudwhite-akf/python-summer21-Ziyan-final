{
 "cells": [
  {
   "cell_type": "code",
   "execution_count": null,
   "id": "d3890ebb",
   "metadata": {},
   "outputs": [],
   "source": [
    "#Import toolkit == Get data\n",
    "import requests\n",
    "#Import toolkit == filter data\n",
    "import re\n",
    "\n",
    "#  =First part=\n",
    "\n",
    "txt = input(\"Please type the emoji you want to search:\")\n",
    "\n",
    "#Disguise as a browser\n",
    "UA = {'User-Agent':'Mozilla/5.0 (Windows NT 10.0; WOW64) AppleWebKit/537.36 (KHTML, like Gecko) Chrome/78.0.3904.108 Safari/537.36'}\n",
    "\n",
    "#Crawled address\n",
    "url = 'https://www.doutula.com/search?keyword='+txt\n",
    "\n",
    "#Crawl the data, and use the get (webpage URL) tool to get the webpage code file\n",
    "file = requests.get(url,headers = UA)\n",
    "\n",
    "#Read the code file into the text we recognize and save it to the variable data\n",
    "data = file.text\n",
    "\n",
    "#Filter the data we need\n",
    "image_url = re.findall('data-original=\"(.*)\" s',data)\n",
    "\n",
    "\n",
    "\n",
    "\n",
    "\n",
    "#  =Second part=\n",
    "\n",
    "#Define a name for the picture\n",
    "image_name = 0\n",
    "\n",
    "#Loop this bunch of data\n",
    "for i in image_url:\n",
    "    #Add 1 to the name of the picture every time it loops\n",
    "    image_name = image_name + 1\n",
    "\n",
    "    #Crawl data files in pictures\n",
    "    image_files = requests.get(i,headers = UA)\n",
    "\n",
    "    #Read the file as data recognized by the computer, but we may not recognize it\n",
    "    image_data = image_files.content\n",
    "    \n",
    "    #save\n",
    "    #open(\"File save location\", \"File status\"), and save it in the photo variable (empty data)\n",
    "    photo = open(str(image_name)+\".jpg\",'wb')\n",
    "\n",
    "    #inport data\n",
    "    photo.write(image_data)\n",
    "\n",
    "    #Close\n",
    "    photo.close()\n",
    "\n",
    "    print(\"No.\"+str(image_name)+\"Finished\")\n",
    "\n"
   ]
  },
  {
   "cell_type": "code",
   "execution_count": null,
   "id": "9bb9915b",
   "metadata": {},
   "outputs": [],
   "source": []
  },
  {
   "cell_type": "code",
   "execution_count": null,
   "id": "a3a049fc",
   "metadata": {},
   "outputs": [],
   "source": []
  }
 ],
 "metadata": {
  "kernelspec": {
   "display_name": "Python 3",
   "language": "python",
   "name": "python3"
  },
  "language_info": {
   "codemirror_mode": {
    "name": "ipython",
    "version": 3
   },
   "file_extension": ".py",
   "mimetype": "text/x-python",
   "name": "python",
   "nbconvert_exporter": "python",
   "pygments_lexer": "ipython3",
   "version": "3.8.8"
  }
 },
 "nbformat": 4,
 "nbformat_minor": 5
}
